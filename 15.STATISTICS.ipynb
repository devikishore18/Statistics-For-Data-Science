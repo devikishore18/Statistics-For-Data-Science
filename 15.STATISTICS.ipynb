{
 "cells": [
  {
   "cell_type": "markdown",
   "id": "4952202d-1e41-4f84-a560-7b4ec090c1d1",
   "metadata": {},
   "source": [
    "# STATISTICS in Python\n",
    "\n",
    "## ✅ What is Statistics?\n",
    "\n",
    "**Statistics** is the science of collecting, analyzing, and interpreting data.  \n",
    "It helps us summarize data, find patterns, and make informed decisions.\n",
    "\n",
    "---\n",
    "\n"
   ]
  },
  {
   "cell_type": "markdown",
   "id": "8e6ee0f8-fd04-4459-8ee9-f2da97ff357f",
   "metadata": {},
   "source": [
    "## Libraries for Statistics"
   ]
  },
  {
   "cell_type": "code",
   "execution_count": 5,
   "id": "89a6dc6b-e8f9-4a80-a7a9-d5a9ff34c351",
   "metadata": {},
   "outputs": [],
   "source": [
    "import numpy as np\n",
    "import pandas as pd\n",
    "import scipy.stats as stats\n",
    "import matplotlib.pyplot as plt\n",
    "import seaborn as sns"
   ]
  },
  {
   "cell_type": "markdown",
   "id": "8639eee2-9ec5-443f-8ae1-8bb8bb0fa8b3",
   "metadata": {},
   "source": [
    "## Sample Data"
   ]
  },
  {
   "cell_type": "code",
   "execution_count": 2,
   "id": "9e40a4f6-fd01-4892-95ee-0a60cfefbfd8",
   "metadata": {},
   "outputs": [],
   "source": [
    "data = [85, 90, 78, 92, 88, 76, 95, 89, 84, 91]\n"
   ]
  },
  {
   "cell_type": "markdown",
   "id": "1d725f47-1a8f-440f-a468-c8e11a85b92e",
   "metadata": {},
   "source": [
    "## 1. Measures of Central Tendency"
   ]
  },
  {
   "cell_type": "code",
   "execution_count": null,
   "id": "48003b3f-bf8c-4562-b4e8-42f318dc0171",
   "metadata": {},
   "outputs": [],
   "source": [
    "np.mean(data)         # Mean\n",
    "np.median(data)       # Median\n",
    "stats.mode(data)[0][0]# Mode\n",
    "# Mean = average, Median = middle value, Mode = most frequent."
   ]
  },
  {
   "cell_type": "markdown",
   "id": "003c8929-26d5-440b-9155-e4c0a2da834a",
   "metadata": {},
   "source": [
    "## 2. Measures of Spread (Dispersion)"
   ]
  },
  {
   "cell_type": "code",
   "execution_count": null,
   "id": "09ff3804-b20b-47f0-9456-deeeb961bd1d",
   "metadata": {},
   "outputs": [],
   "source": [
    "np.std(data)        # Standard deviation (population)\n",
    "np.var(data)        # Variance (population)\n",
    "max(data) - min(data)  # Range\n",
    "#These show how spread out the data is."
   ]
  },
  {
   "cell_type": "markdown",
   "id": "dc5d55de-8136-4857-8990-0fbf55c9a59f",
   "metadata": {},
   "source": [
    "## 3. Percentiles & Quartiles"
   ]
  },
  {
   "cell_type": "code",
   "execution_count": null,
   "id": "c7ae6db8-4868-4de1-b3f8-a1dd2af2300a",
   "metadata": {},
   "outputs": [],
   "source": [
    "np.percentile(data, 25)  # Q1\n",
    "np.percentile(data, 50)  # Median\n",
    "np.percentile(data, 75)  # Q3"
   ]
  },
  {
   "cell_type": "markdown",
   "id": "e779de1f-93c4-4e44-bfa4-b85d05574f41",
   "metadata": {},
   "source": [
    "## 4. Interquartile Range (IQR)"
   ]
  },
  {
   "cell_type": "code",
   "execution_count": null,
   "id": "b087811f-0c87-4605-bff0-14ad91673728",
   "metadata": {},
   "outputs": [],
   "source": [
    "Q1 = np.percentile(data, 25)\n",
    "Q3 = np.percentile(data, 75)\n",
    "IQR = Q3 - Q1\n",
    "#Helps detect outliers."
   ]
  },
  {
   "cell_type": "markdown",
   "id": "737483ea-0119-47a6-bdcb-93b08b4952a3",
   "metadata": {},
   "source": [
    "## 5. Skewness & Kurtosis\n",
    "Skewness: Direction of distribution tail\n",
    "\n",
    "Kurtosis: Peakedness / tail heaviness\n",
    "\n"
   ]
  },
  {
   "cell_type": "markdown",
   "id": "1efba561-6fb1-49dc-8074-259baabc2050",
   "metadata": {},
   "source": [
    "stats.skew(data)     # Skewness\n",
    "stats.kurtosis(data) # Kurtosis\n"
   ]
  },
  {
   "cell_type": "markdown",
   "id": "9f1b50e0-9ea3-4570-9e94-3a99f8cdcbcf",
   "metadata": {},
   "source": [
    "## 6. Correlation (Between Two Variables)\n",
    "Correlation ranges from -1 (negative) to +1 (positive)."
   ]
  },
  {
   "cell_type": "code",
   "execution_count": 14,
   "id": "13628eb4-bceb-4e55-878e-fdf3c0608a67",
   "metadata": {},
   "outputs": [
    {
     "data": {
      "text/plain": [
       "PearsonRResult(statistic=np.float64(0.9899494936611666), pvalue=np.float64(0.001207702470271701))"
      ]
     },
     "execution_count": 14,
     "metadata": {},
     "output_type": "execute_result"
    }
   ],
   "source": [
    "# Sample data\n",
    "x = [1, 2, 3, 4, 5]\n",
    "y = [10, 20, 25, 30, 40]\n",
    "\n",
    "np.corrcoef(x, y)          # Pearson correlation\n",
    "stats.pearsonr(x, y)       # Correlation coefficient + p-value\n"
   ]
  },
  {
   "cell_type": "markdown",
   "id": "b2d1ae99-3796-4f09-883b-48b21286e5a4",
   "metadata": {},
   "source": [
    "## 7. Probability Distribution — Normal Distribution"
   ]
  },
  {
   "cell_type": "code",
   "execution_count": 16,
   "id": "9457ad28-e2b9-4ebd-a131-38150747a700",
   "metadata": {},
   "outputs": [
    {
     "data": {
      "image/png": "[encoded data removed]",
      "text/plain": [
       "<Figure size 640x480 with 1 Axes>"
      ]
     },
     "metadata": {},
     "output_type": "display_data"
    }
   ],
   "source": [
    "sns.histplot(data, kde=True)\n",
    "plt.title(\"Normal Distribution Curve\")\n",
    "plt.show()\n"
   ]
  },
  {
   "cell_type": "markdown",
   "id": "d9a295ab-39c9-43f7-8922-62f6aaf71da3",
   "metadata": {},
   "source": [
    "## 8. Z-score (Standardization)\n",
    "📝 Z-score tells how many standard deviations a value is from the mean.\n",
    "\n",
    "\n"
   ]
  },
  {
   "cell_type": "code",
   "execution_count": 17,
   "id": "0f66fea3-4b92-4843-afc3-1f5d74c0d9b9",
   "metadata": {},
   "outputs": [
    {
     "name": "stdout",
     "output_type": "stream",
     "text": [
      "[-0.31164451  0.55403469 -1.52359539  0.90030637  0.20776301 -1.86986707\n",
      "  1.41971389  0.38089885 -0.48478035  0.72717053]\n"
     ]
    }
   ],
   "source": [
    "z_scores = stats.zscore(data)\n",
    "print(z_scores)\n"
   ]
  },
  {
   "cell_type": "markdown",
   "id": "40f5b29c-5265-4871-b497-db2f85b00204",
   "metadata": {},
   "source": [
    "## 9. Hypothesis Testing (One Sample t-test)\n",
    " Returns t-statistic and p-value. p < 0.05 ⇒ statistically significant."
   ]
  },
  {
   "cell_type": "code",
   "execution_count": 18,
   "id": "ef170da3-7d4e-4882-ad0d-ebecf3ecfe8c",
   "metadata": {},
   "outputs": [
    {
     "data": {
      "text/plain": [
       "TtestResult(statistic=np.float64(3.5319711414286616), pvalue=np.float64(0.006394135411873378), df=np.int64(9))"
      ]
     },
     "execution_count": 18,
     "metadata": {},
     "output_type": "execute_result"
    }
   ],
   "source": [
    "# Is the mean of data significantly different from 80?\n",
    "stats.ttest_1samp(data, 80)\n"
   ]
  },
  {
   "cell_type": "markdown",
   "id": "f503c178-be7b-4391-a057-ba60e8dc0a7d",
   "metadata": {},
   "source": [
    "## Summary "
   ]
  },
  {
   "cell_type": "markdown",
   "id": "1951ef54-d9b8-475f-bad7-e2b930489a88",
   "metadata": {},
   "source": [
    "| Concept            | Python Function                     |\n",
    "| ------------------ | ----------------------------------- |\n",
    "| Mean               | `np.mean()`                         |\n",
    "| Median             | `np.median()`                       |\n",
    "| Mode               | `stats.mode()`                      |\n",
    "| Standard Deviation | `np.std()`                          |\n",
    "| Variance           | `np.var()`                          |\n",
    "| Range              | `max - min`                         |\n",
    "| Percentiles        | `np.percentile(data, q)`            |\n",
    "| Skewness           | `stats.skew()`                      |\n",
    "| Kurtosis           | `stats.kurtosis()`                  |\n",
    "| Correlation        | `np.corrcoef()`, `stats.pearsonr()` |\n",
    "| Z-score            | `stats.zscore()`                    |\n",
    "| t-test (1 sample)  | `stats.ttest_1samp()`               |\n"
   ]
  },
  {
   "cell_type": "markdown",
   "id": "4f471952-058c-4487-ad8f-0ab0e5319f65",
   "metadata": {},
   "source": [
    "Statistics is the foundation of data science. With Python, you can quickly compute, visualize, and analyze data to derive real insights.\n",
    "\n"
   ]
  },
  {
   "cell_type": "code",
   "execution_count": null,
   "id": "75d2fc97-5b97-4ced-9512-7f0191e0c30c",
   "metadata": {},
   "outputs": [],
   "source": []
  }
 ],
 "metadata": {
  "kernelspec": {
   "display_name": "Python 3 (ipykernel)",
   "language": "python",
   "name": "python3"
  },
  "language_info": {
   "codemirror_mode": {
    "name": "ipython",
    "version": 3
   },
   "file_extension": ".py",
   "mimetype": "text/x-python",
   "name": "python",
   "nbconvert_exporter": "python",
   "pygments_lexer": "ipython3",
   "version": "3.13.1"
  }
 },
 "nbformat": 4,
 "nbformat_minor": 5
}
