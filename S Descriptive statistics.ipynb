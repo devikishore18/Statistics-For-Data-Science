{
 "cells": [
  {
   "cell_type": "markdown",
   "id": "f21f784a-cbbc-4ce6-9675-f9c33385ed3b",
   "metadata": {},
   "source": [
    "# Statistics\n",
    "Statistics is the science of collecting, organizing, analyzing, interpreting, and presenting data."
   ]
  },
  {
   "cell_type": "markdown",
   "id": "251cd954-b284-4a81-be80-1e56ea6b23f7",
   "metadata": {},
   "source": [
    "# Descriptive Statistics"
   ]
  },
  {
   "cell_type": "markdown",
   "id": "2ec1f54c-85ca-4792-9f1f-ebf06c7448d7",
   "metadata": {},
   "source": [
    "## What is Descriptive Statistics?\n",
    "\n",
    "Descriptive statistics help summarize and describe the **main features** of a dataset using:\n",
    "\n",
    "- **Central Tendency**: Mean, Median, Mode  \n",
    "- **Spread (Dispersion)**: Standard Deviation, Variance, Range, IQR  \n",
    "- **Shape**: Skewness, Kurtosis  \n",
    "- **Distribution overview**: Min, Max, Count, Percentiles\n",
    "\n",
    "---\n",
    "\n",
    "## 📦 Libraries to Use\n",
    "\n",
    "```python\n",
    "import pandas as pd\n",
    "import numpy as np\n",
    "import seaborn as sns\n",
    "import matplotlib.pyplot as plt\n"
   ]
  },
  {
   "cell_type": "code",
   "execution_count": 2,
   "id": "9c2bfa66-70bd-40ba-9134-b80e2e24e006",
   "metadata": {},
   "outputs": [],
   "source": [
    "data=[45, 55, 60, 65, 70, 75, 80, 85, 90, 95]"
   ]
  },
  {
   "cell_type": "code",
   "execution_count": 3,
   "id": "332a8498-280b-4d63-b855-2f7f91b6a786",
   "metadata": {},
   "outputs": [
    {
     "data": {
      "text/plain": [
       "72.0"
      ]
     },
     "execution_count": 3,
     "metadata": {},
     "output_type": "execute_result"
    }
   ],
   "source": [
    "#mean:  average\n",
    "mean=sum(data)/len(data)\n",
    "mean"
   ]
  },
  {
   "cell_type": "code",
   "execution_count": 6,
   "id": "731120b6-5c04-45fe-935e-d13ae6577f73",
   "metadata": {},
   "outputs": [],
   "source": [
    "#importing pandas \n",
    "import pandas as pd"
   ]
  },
  {
   "cell_type": "code",
   "execution_count": 7,
   "id": "157b1a5d-4a9f-4f98-a118-e46ba204a90e",
   "metadata": {},
   "outputs": [
    {
     "data": {
      "text/plain": [
       "np.float64(72.5)"
      ]
     },
     "execution_count": 7,
     "metadata": {},
     "output_type": "execute_result"
    }
   ],
   "source": [
    "#median\n",
    "median=pd.Series(data).median()\n",
    "median"
   ]
  },
  {
   "cell_type": "code",
   "execution_count": 8,
   "id": "33fb2f98-1f55-40bf-91a0-0e44e7d3ff22",
   "metadata": {},
   "outputs": [
    {
     "data": {
      "text/plain": [
       "np.float64(16.020819787597222)"
      ]
     },
     "execution_count": 8,
     "metadata": {},
     "output_type": "execute_result"
    }
   ],
   "source": [
    "std=pd.Series(data).std()\n",
    "std"
   ]
  },
  {
   "cell_type": "code",
   "execution_count": 9,
   "id": "2b037167-985e-44d8-a2d4-4ff7974944b6",
   "metadata": {},
   "outputs": [],
   "source": [
    "import numpy as np"
   ]
  },
  {
   "cell_type": "code",
   "execution_count": 18,
   "id": "add7cf51-bdc7-4f7a-bbbb-26da4550dc31",
   "metadata": {},
   "outputs": [
    {
     "data": {
      "text/plain": [
       "np.float64(256.6666666666667)"
      ]
     },
     "execution_count": 18,
     "metadata": {},
     "output_type": "execute_result"
    }
   ],
   "source": [
    "#sample variance\n",
    "sv=np.var(data,ddof=1)   #delta degree of freedom\n",
    "sv"
   ]
  },
  {
   "cell_type": "code",
   "execution_count": 12,
   "id": "43d88102-c002-4ddb-908a-e24bc20c7872",
   "metadata": {},
   "outputs": [
    {
     "data": {
      "text/plain": [
       "np.float64(231.0)"
      ]
     },
     "execution_count": 12,
     "metadata": {},
     "output_type": "execute_result"
    }
   ],
   "source": [
    "#population variance\n",
    "pv=np.var(data)\n",
    "pv"
   ]
  },
  {
   "cell_type": "code",
   "execution_count": 19,
   "id": "e3c73134-50b3-4ccc-9186-5bf14f1ed62a",
   "metadata": {},
   "outputs": [
    {
     "data": {
      "text/plain": [
       "50"
      ]
     },
     "execution_count": 19,
     "metadata": {},
     "output_type": "execute_result"
    }
   ],
   "source": [
    "#range\n",
    "r=max(data)-min(data)\n",
    "r"
   ]
  },
  {
   "cell_type": "code",
   "execution_count": 20,
   "id": "8702b1a1-cd49-4327-a766-447b0ce47eae",
   "metadata": {},
   "outputs": [
    {
     "data": {
      "text/html": [
       "<div>\n",
       "<style scoped>\n",
       "    .dataframe tbody tr th:only-of-type {\n",
       "        vertical-align: middle;\n",
       "    }\n",
       "\n",
       "    .dataframe tbody tr th {\n",
       "        vertical-align: top;\n",
       "    }\n",
       "\n",
       "    .dataframe thead th {\n",
       "        text-align: right;\n",
       "    }\n",
       "</style>\n",
       "<table border=\"1\" class=\"dataframe\">\n",
       "  <thead>\n",
       "    <tr style=\"text-align: right;\">\n",
       "      <th></th>\n",
       "      <th>0</th>\n",
       "    </tr>\n",
       "  </thead>\n",
       "  <tbody>\n",
       "    <tr>\n",
       "      <th>0</th>\n",
       "      <td>45</td>\n",
       "    </tr>\n",
       "    <tr>\n",
       "      <th>1</th>\n",
       "      <td>55</td>\n",
       "    </tr>\n",
       "    <tr>\n",
       "      <th>2</th>\n",
       "      <td>60</td>\n",
       "    </tr>\n",
       "    <tr>\n",
       "      <th>3</th>\n",
       "      <td>65</td>\n",
       "    </tr>\n",
       "    <tr>\n",
       "      <th>4</th>\n",
       "      <td>70</td>\n",
       "    </tr>\n",
       "    <tr>\n",
       "      <th>5</th>\n",
       "      <td>75</td>\n",
       "    </tr>\n",
       "    <tr>\n",
       "      <th>6</th>\n",
       "      <td>80</td>\n",
       "    </tr>\n",
       "    <tr>\n",
       "      <th>7</th>\n",
       "      <td>85</td>\n",
       "    </tr>\n",
       "    <tr>\n",
       "      <th>8</th>\n",
       "      <td>90</td>\n",
       "    </tr>\n",
       "    <tr>\n",
       "      <th>9</th>\n",
       "      <td>95</td>\n",
       "    </tr>\n",
       "  </tbody>\n",
       "</table>\n",
       "</div>"
      ],
      "text/plain": [
       "    0\n",
       "0  45\n",
       "1  55\n",
       "2  60\n",
       "3  65\n",
       "4  70\n",
       "5  75\n",
       "6  80\n",
       "7  85\n",
       "8  90\n",
       "9  95"
      ]
     },
     "execution_count": 20,
     "metadata": {},
     "output_type": "execute_result"
    }
   ],
   "source": [
    "df=pd.DataFrame(data)\n",
    "df"
   ]
  },
  {
   "cell_type": "code",
   "execution_count": 21,
   "id": "33bfb02f-b29b-4c95-997b-d98beed71a43",
   "metadata": {},
   "outputs": [
    {
     "data": {
      "text/plain": [
       "0    72.0\n",
       "dtype: float64"
      ]
     },
     "execution_count": 21,
     "metadata": {},
     "output_type": "execute_result"
    }
   ],
   "source": [
    "df.mean()"
   ]
  },
  {
   "cell_type": "code",
   "execution_count": 22,
   "id": "3f7a6a62-e89c-4d9d-93f3-0a6a0af673df",
   "metadata": {},
   "outputs": [
    {
     "data": {
      "text/plain": [
       "0    72.5\n",
       "dtype: float64"
      ]
     },
     "execution_count": 22,
     "metadata": {},
     "output_type": "execute_result"
    }
   ],
   "source": [
    "df.median()"
   ]
  },
  {
   "cell_type": "code",
   "execution_count": 23,
   "id": "c9c50861-b75d-40f0-8593-e348184a599e",
   "metadata": {},
   "outputs": [
    {
     "data": {
      "text/plain": [
       "0    256.666667\n",
       "dtype: float64"
      ]
     },
     "execution_count": 23,
     "metadata": {},
     "output_type": "execute_result"
    }
   ],
   "source": [
    "df.var()"
   ]
  },
  {
   "cell_type": "code",
   "execution_count": 24,
   "id": "a26f94b5-ee8e-421f-9d8b-f294bb37a9ea",
   "metadata": {},
   "outputs": [
    {
     "data": {
      "text/plain": [
       "0    16.02082\n",
       "dtype: float64"
      ]
     },
     "execution_count": 24,
     "metadata": {},
     "output_type": "execute_result"
    }
   ],
   "source": [
    "df.std()"
   ]
  },
  {
   "cell_type": "code",
   "execution_count": 26,
   "id": "2654cb99-fe28-4c05-906a-4690d3429bd9",
   "metadata": {},
   "outputs": [
    {
     "data": {
      "text/plain": [
       "np.float64(61.25)"
      ]
     },
     "execution_count": 26,
     "metadata": {},
     "output_type": "execute_result"
    }
   ],
   "source": [
    "#25th percentile q1\n",
    "q1=np.percentile(data,25)\n",
    "q1"
   ]
  },
  {
   "cell_type": "code",
   "execution_count": 27,
   "id": "c52c9ff0-584d-4955-8e38-7717b21e2850",
   "metadata": {},
   "outputs": [
    {
     "data": {
      "text/plain": [
       "np.float64(72.5)"
      ]
     },
     "execution_count": 27,
     "metadata": {},
     "output_type": "execute_result"
    }
   ],
   "source": [
    "#50th percentile(median) q2\n",
    "q2=np.percentile(data,50)\n",
    "q2"
   ]
  },
  {
   "cell_type": "code",
   "execution_count": 28,
   "id": "fc01214b-3974-4d06-a2f4-1faa703fd0f4",
   "metadata": {},
   "outputs": [
    {
     "data": {
      "text/plain": [
       "np.float64(83.75)"
      ]
     },
     "execution_count": 28,
     "metadata": {},
     "output_type": "execute_result"
    }
   ],
   "source": [
    "#75th percentile q3\n",
    "q3=np.percentile(data,75)\n",
    "q3"
   ]
  },
  {
   "cell_type": "code",
   "execution_count": 31,
   "id": "8ff5cf60-908e-47e5-9de3-6eb58a1c670d",
   "metadata": {},
   "outputs": [
    {
     "data": {
      "text/plain": [
       "np.float64(63.5)"
      ]
     },
     "execution_count": 31,
     "metadata": {},
     "output_type": "execute_result"
    }
   ],
   "source": [
    "#100th percentile\n",
    "q=np.percentile(data,30)\n",
    "q"
   ]
  },
  {
   "cell_type": "code",
   "execution_count": 32,
   "id": "84d3eb44-c1cf-40ad-aef7-5ca3ababe9f4",
   "metadata": {},
   "outputs": [
    {
     "data": {
      "text/plain": [
       "np.float64(22.5)"
      ]
     },
     "execution_count": 32,
     "metadata": {},
     "output_type": "execute_result"
    }
   ],
   "source": [
    "#INTER QUARTILE RANGE(IQR): how datapoints got spread\n",
    "iqr=q3-q1\n",
    "iqr"
   ]
  },
  {
   "cell_type": "code",
   "execution_count": 33,
   "id": "407d9c52-5931-4aa3-9c53-99281aa1dc46",
   "metadata": {},
   "outputs": [
    {
     "data": {
      "text/plain": [
       "np.float64(27.5)"
      ]
     },
     "execution_count": 33,
     "metadata": {},
     "output_type": "execute_result"
    }
   ],
   "source": [
    "#Lower and Upper Bound Value\n",
    "#ie Lower whisker , Upper Whisker\n",
    "lower_bound=q1-1.5*iqr\n",
    "lower_bound"
   ]
  },
  {
   "cell_type": "code",
   "execution_count": 34,
   "id": "bf0d31b8-4676-4b28-b7b6-2f1e27b569a9",
   "metadata": {},
   "outputs": [
    {
     "data": {
      "text/plain": [
       "np.float64(117.5)"
      ]
     },
     "execution_count": 34,
     "metadata": {},
     "output_type": "execute_result"
    }
   ],
   "source": [
    "upper_bound=q3+1.5*iqr\n",
    "upper_bound"
   ]
  },
  {
   "cell_type": "code",
   "execution_count": null,
   "id": "bee11173-b406-48b2-8b05-95a7f5891424",
   "metadata": {},
   "outputs": [],
   "source": [
    "std_dev = pd.Series(data).std()\n",
    "data = [4, 8, 6, 5, 3]\n",
    "sample_var = np.var(data, ddof=1)  # Sample variance\n",
    "Delta Degrees of Freedom\n",
    "population_var = np.var(data)   \n",
    "range_val = max(data) - min(data)\n",
    "\n",
    "# Calculate specific percentiles\n",
    "q1 = np.percentile(data, 25)\n",
    "q2 = np.percentile(data, 50)\n",
    "q3 = np.percentile(data, 75)\n",
    "#Outlier boundaries\n",
    "lower_bound = Q1 - 1.5 * IQR\n",
    "upper_bound = Q3 + 1.5 * IQR\n",
    "for col in df.select_dtypes(include='number').columns:\n",
    "    plt.figure(figsize=(4, 5))\n",
    "    sns.boxplot(y=df[col])\n",
    "    plt.title(f'Boxplot of {col}')\n",
    "    plt.show()\n",
    "# Loop through numeric columns\n",
    "for col in df.select_dtypes(include='number').columns:\n",
    "    # Calculate IQR\n",
    "    Q1 = df[col].quantile(0.25)\n",
    "    Q3 = df[col].quantile(0.75)\n",
    "    IQR = Q3 - Q1\n",
    "# Define bounds\n",
    "    lower_bound = Q1 - 1.5 * IQR\n",
    "    upper_bound = Q3 + 1.5 * IQR\n",
    "# Filter out outliers\n",
    "    clean_data = df[(df[col] >= lower_bound) & (df[col] <= upper_bound)][col]\n",
    "# Function to apply IQR method to fix outliers\n",
    "def fix_outliers_iqr(df, columns):\n",
    "    for col in columns:\n",
    "        Q1 = df[col].quantile(0.25)\n",
    "        Q3 = df[col].quantile(0.75)\n",
    "        IQR = Q3 - Q1\n",
    "lower_bound = Q1 - 1.5 * IQR\n",
    "        upper_bound = Q3 + 1.5 * IQR"
   ]
  },
  {
   "cell_type": "markdown",
   "id": "4c84787c-4c19-422d-86d7-da60f9ac3897",
   "metadata": {},
   "source": [
    "## skewness"
   ]
  },
  {
   "cell_type": "markdown",
   "id": "a23b1f21-62db-4976-bfc5-2d5431b1ae20",
   "metadata": {},
   "source": [
    "- If the skewness is between -0.5 and 0.5, the data are fairly symmetrical.\n",
    "- If the skewness is between -1 and – 0.5 or between 0.5 and 1, the data are moderately skewed.\n",
    "- If the skewness is less than -1 or greater than 1, the data are highly skewed."
   ]
  },
  {
   "cell_type": "markdown",
   "id": "ea0c24a5-3ab7-46c5-87f1-0faa9f0aeeec",
   "metadata": {},
   "source": [
    "## kurtosis"
   ]
  },
  {
   "cell_type": "markdown",
   "id": "d2e0355a-523c-4497-929e-b7ac4f8961a2",
   "metadata": {},
   "source": [
    "- leptokurtic---  greater than 3\n",
    "- mesokurtic----   =3   normally distributed best\n",
    "- platykurtic----  lesser than 3"
   ]
  },
  {
   "cell_type": "code",
   "execution_count": null,
   "id": "d8dc7e0c-42fb-4de0-84be-259231629f1a",
   "metadata": {},
   "outputs": [],
   "source": []
  }
 ],
 "metadata": {
  "kernelspec": {
   "display_name": "Python 3 (ipykernel)",
   "language": "python",
   "name": "python3"
  },
  "language_info": {
   "codemirror_mode": {
    "name": "ipython",
    "version": 3
   },
   "file_extension": ".py",
   "mimetype": "text/x-python",
   "name": "python",
   "nbconvert_exporter": "python",
   "pygments_lexer": "ipython3",
   "version": "3.13.1"
  }
 },
 "nbformat": 4,
 "nbformat_minor": 5
}
