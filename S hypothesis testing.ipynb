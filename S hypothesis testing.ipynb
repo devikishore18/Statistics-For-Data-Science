{
 "cells": [
  {
   "cell_type": "markdown",
   "id": "5c2582ff-7037-4517-97fe-096673981def",
   "metadata": {},
   "source": [
    "# HYPOTHESIS TESTING\n",
    "\n",
    " - NULL hypothesis  Ho\n",
    " \n",
    " - Alternate hypothesis H1\n",
    "\n",
    " - Define a null hypothesis (H₀) and alternative hypothesis (H₁).\n",
    "\n",
    " - Compute a test statistic (e.g., t-value, Z-value).\n",
    "\n",
    " - Use confidence level (e.g., α = 0.05) and p-value to decide whether to reject H₀.\n",
    "\n",
    " - Common tests: t-tests, chi-square, ANOVA, non-parametric alternatives"
   ]
  },
  {
   "cell_type": "code",
   "execution_count": null,
   "id": "1b9e8970-4ef8-413c-bcc6-850f05df6bbf",
   "metadata": {},
   "outputs": [],
   "source": [
    "H0= work from home is good\n",
    "H1= work from home is not good\n",
    "p_value(critical value)<5% or >5%"
   ]
  },
  {
   "cell_type": "markdown",
   "id": "244328a8-9ef7-4676-891b-2f4a323c9924",
   "metadata": {},
   "source": [
    "## T TEST"
   ]
  },
  {
   "cell_type": "code",
   "execution_count": 2,
   "id": "3b576501-cec8-4905-b9e7-e872b1a01179",
   "metadata": {},
   "outputs": [],
   "source": [
    "import numpy as np\n",
    "import pandas as pd\n",
    "import matplotlib.pyplot as plt"
   ]
  },
  {
   "cell_type": "code",
   "execution_count": 3,
   "id": "90a5f741-fc95-422b-b7a2-6bd375448d9d",
   "metadata": {},
   "outputs": [],
   "source": [
    "from scipy import stats"
   ]
  },
  {
   "cell_type": "code",
   "execution_count": 6,
   "id": "f655502b-9ea2-4914-947b-b27574d360c9",
   "metadata": {},
   "outputs": [],
   "source": [
    "np.random.seed(42)"
   ]
  },
  {
   "cell_type": "code",
   "execution_count": 7,
   "id": "ad7637f2-ad13-414d-97a5-c9193102f3e0",
   "metadata": {},
   "outputs": [
    {
     "data": {
      "text/plain": [
       "array([505.48357077, 502.30867849, 506.23844269, 510.61514928,\n",
       "       501.82923313, 501.82931522, 510.89606408, 506.83717365,\n",
       "       500.65262807, 505.71280022, 500.68291154, 500.67135123,\n",
       "       504.20981136, 493.43359878, 494.37541084, 500.18856235,\n",
       "       497.9358444 , 504.57123666, 498.45987962, 495.93848149,\n",
       "       510.32824384, 501.8711185 , 503.33764102, 495.87625907,\n",
       "       500.27808638, 503.55461295, 497.24503211, 504.87849009,\n",
       "       499.99680655, 501.54153125])"
      ]
     },
     "execution_count": 7,
     "metadata": {},
     "output_type": "execute_result"
    }
   ],
   "source": [
    "sample=np.random.normal(loc=503,scale=5,size= 30)\n",
    "sample"
   ]
  },
  {
   "cell_type": "code",
   "execution_count": 8,
   "id": "12b6ed8c-bb4c-4c26-b9ad-94e1f46d3222",
   "metadata": {},
   "outputs": [],
   "source": [
    "t_statistic, p_value = stats.ttest_1samp(sample, popmean=500)"
   ]
  },
  {
   "cell_type": "code",
   "execution_count": 10,
   "id": "f9e4da42-6c53-4711-b851-33484df2ce08",
   "metadata": {},
   "outputs": [
    {
     "name": "stdout",
     "output_type": "stream",
     "text": [
      "T-statistic: 2.5064402725654054\n",
      "P-value: 0.018054505756327662\n"
     ]
    }
   ],
   "source": [
    "print(\"T-statistic:\", t_statistic)\n",
    "print(\"P-value:\", p_value)"
   ]
  },
  {
   "cell_type": "code",
   "execution_count": 11,
   "id": "6e7abc32-b872-4f14-95c7-1b04741e5532",
   "metadata": {},
   "outputs": [],
   "source": [
    "a=0.05"
   ]
  },
  {
   "cell_type": "code",
   "execution_count": 12,
   "id": "f5473823-8c54-4c96-8559-9de6f237f9c9",
   "metadata": {},
   "outputs": [
    {
     "name": "stdout",
     "output_type": "stream",
     "text": [
      "work from home is good\n"
     ]
    }
   ],
   "source": [
    "if p_value<a:\n",
    "    print('work from home is good')\n",
    "else:\n",
    "    print('work from home is not good')"
   ]
  },
  {
   "cell_type": "code",
   "execution_count": 13,
   "id": "c9e66b12-70da-4727-bff3-f1f445604c38",
   "metadata": {},
   "outputs": [
    {
     "name": "stdout",
     "output_type": "stream",
     "text": [
      "Reject the null hypothesis: Significant difference from 500ml.\n"
     ]
    }
   ],
   "source": [
    "# Decision\n",
    "alpha = 0.05\n",
    "if p_value < alpha:\n",
    "    print(\"Reject the null hypothesis: Significant difference from 500ml.\")\n",
    "else:\n",
    "    print(\"Fail to reject the null hypothesis: No significant difference.\")"
   ]
  },
  {
   "cell_type": "markdown",
   "id": "bacb8ecc-f257-4167-9899-2b9ef11ac656",
   "metadata": {},
   "source": [
    "# Z TEST"
   ]
  },
  {
   "cell_type": "code",
   "execution_count": 14,
   "id": "0e1c5fc9-79ea-4520-8849-99d81ec02f40",
   "metadata": {},
   "outputs": [],
   "source": [
    "# Simulate a sample of 50 student scores\n",
    "np.random.seed(42)\n",
    "sample = np.random.normal(loc=72, scale=5, size=50)"
   ]
  },
  {
   "cell_type": "code",
   "execution_count": 15,
   "id": "bf296503-edde-464b-a015-cdc4b1d9eb0a",
   "metadata": {},
   "outputs": [],
   "source": [
    "pop_mean=70\n",
    "pop_std=5\n"
   ]
  },
  {
   "cell_type": "code",
   "execution_count": 17,
   "id": "73650c8b-da5a-4692-b7ef-d22575808efd",
   "metadata": {},
   "outputs": [
    {
     "name": "stdout",
     "output_type": "stream",
     "text": [
      "sample mean: 70.8726304737193\n",
      "length: 50\n"
     ]
    }
   ],
   "source": [
    "sample_mean=np.mean(sample)\n",
    "n= len(sample)\n",
    "print('sample mean:', sample_mean)\n",
    "print('length:', n)"
   ]
  },
  {
   "cell_type": "code",
   "execution_count": 18,
   "id": "530dbfd9-953e-4bfc-b5e6-2a4e243754f7",
   "metadata": {},
   "outputs": [],
   "source": [
    "# Z-score formula\n",
    "z_score = (sample_mean - pop_mean) / (pop_std / np.sqrt(n))"
   ]
  },
  {
   "cell_type": "code",
   "execution_count": 19,
   "id": "82bc89b1-e04d-4fc8-a979-42e0e18bd5ec",
   "metadata": {},
   "outputs": [
    {
     "data": {
      "text/plain": [
       "np.float64(1.2340858508738894)"
      ]
     },
     "execution_count": 19,
     "metadata": {},
     "output_type": "execute_result"
    }
   ],
   "source": [
    "z_score"
   ]
  },
  {
   "cell_type": "code",
   "execution_count": 22,
   "id": "5894996e-eb2f-49f5-a6bd-7280244bba1b",
   "metadata": {},
   "outputs": [
    {
     "data": {
      "text/plain": [
       "np.float64(0.21717091532783694)"
      ]
     },
     "execution_count": 22,
     "metadata": {},
     "output_type": "execute_result"
    }
   ],
   "source": [
    "p_value=2*(1-stats.norm.cdf(abs (z_score)))\n",
    "p_value"
   ]
  },
  {
   "cell_type": "code",
   "execution_count": 23,
   "id": "faf81d72-746d-4ad7-b97f-c1ba57f69fcc",
   "metadata": {},
   "outputs": [
    {
     "name": "stdout",
     "output_type": "stream",
     "text": [
      "Sample Mean: 70.8726304737193\n",
      "Z-score: 1.2340858508738894\n",
      "P-value: 0.21717091532783694\n"
     ]
    }
   ],
   "source": [
    "print(\"Sample Mean:\", sample_mean)\n",
    "print(\"Z-score:\", z_score)\n",
    "print(\"P-value:\", p_value)\n"
   ]
  },
  {
   "cell_type": "code",
   "execution_count": 24,
   "id": "bf7b604f-8204-4081-be61-75cc97a74334",
   "metadata": {},
   "outputs": [
    {
     "name": "stdout",
     "output_type": "stream",
     "text": [
      "Fail to reject H₀: No significant difference from 70.\n"
     ]
    }
   ],
   "source": [
    "# Decision\n",
    "alpha = 0.05\n",
    "if p_value < alpha:\n",
    "    print(\"Reject H₀: Sample mean is significantly different from 70.\")\n",
    "else:\n",
    "    print(\"Fail to reject H₀: No significant difference from 70.\")\n"
   ]
  },
  {
   "cell_type": "code",
   "execution_count": null,
   "id": "457ccecc-ac5a-4be7-ae7c-657576272ef7",
   "metadata": {},
   "outputs": [],
   "source": []
  }
 ],
 "metadata": {
  "kernelspec": {
   "display_name": "Python 3 (ipykernel)",
   "language": "python",
   "name": "python3"
  },
  "language_info": {
   "codemirror_mode": {
    "name": "ipython",
    "version": 3
   },
   "file_extension": ".py",
   "mimetype": "text/x-python",
   "name": "python",
   "nbconvert_exporter": "python",
   "pygments_lexer": "ipython3",
   "version": "3.13.1"
  }
 },
 "nbformat": 4,
 "nbformat_minor": 5
}
