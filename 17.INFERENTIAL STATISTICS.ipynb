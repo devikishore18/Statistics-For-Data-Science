{
 "cells": [
  {
   "cell_type": "markdown",
   "id": "0a271234-6f5f-4cf0-9882-58c8e88f7eb4",
   "metadata": {},
   "source": [
    "# Inferential Statistics — Python for Data Science\n"
   ]
  },
  {
   "cell_type": "markdown",
   "id": "2ec63d47-af2c-49cb-a0b2-901590fe01b8",
   "metadata": {},
   "source": [
    "##  What is Inferential Statistics?\n",
    "Inferential Statistics helps us **draw conclusions** and make **predictions** about a population based on a sample.\n"
   ]
  },
  {
   "cell_type": "markdown",
   "id": "f2436eb3-4315-427f-84d4-ca9b34f2b050",
   "metadata": {},
   "source": [
    "It answers questions like:\n",
    "- Is there a significant difference between two groups?\n",
    "- Is the sample average statistically different from a known value?\n",
    "- Do two variables have a meaningful relationship?"
   ]
  },
  {
   "cell_type": "markdown",
   "id": "7d719e44-0b4b-4ab8-825d-945f70771375",
   "metadata": {},
   "source": [
    "##  Libraries Required\n"
   ]
  },
  {
   "cell_type": "code",
   "execution_count": 4,
   "id": "cdef72b2-5574-4e38-ba5c-699dd232593a",
   "metadata": {},
   "outputs": [],
   "source": [
    "import numpy as np\n",
    "import pandas as pd\n",
    "from scipy import stats\n",
    "import matplotlib.pyplot as plt\n",
    "import seaborn as sns"
   ]
  },
  {
   "cell_type": "markdown",
   "id": "f8042a88-a2bb-4650-8d98-1be65017a25a",
   "metadata": {},
   "source": [
    "## Sample Data\n"
   ]
  },
  {
   "cell_type": "code",
   "execution_count": 6,
   "id": "a1755fff-5b93-44a6-a28e-508348bfcb9e",
   "metadata": {},
   "outputs": [],
   "source": [
    "sample_data = [85, 90, 78, 92, 88, 76, 95, 89, 84, 91]\n"
   ]
  },
  {
   "cell_type": "markdown",
   "id": "8705e7f7-b7e5-41c9-bfda-4acca40f54c9",
   "metadata": {},
   "source": [
    "## Key Concepts in Inferential Statistics"
   ]
  },
  {
   "cell_type": "markdown",
   "id": "b4ef378b-822e-4654-bfc0-4181e4d9ca30",
   "metadata": {},
   "source": [
    "## 1. Population vs Sample\n",
    "Population: Entire dataset\n",
    "\n",
    "Sample: Subset used to infer about the population"
   ]
  },
  {
   "cell_type": "markdown",
   "id": "b13166b1-4a88-4899-bc6d-e036ede02df1",
   "metadata": {},
   "source": [
    "## 2. Confidence Intervals\n",
    "Interpretation: We are 95% confident that the true population mean lies within this interval."
   ]
  },
  {
   "cell_type": "code",
   "execution_count": 7,
   "id": "60bad7eb-6bde-4ead-a2e1-9271f99f3d21",
   "metadata": {},
   "outputs": [
    {
     "name": "stdout",
     "output_type": "stream",
     "text": [
      "95% Confidence Interval: (83.03, 90.57)\n"
     ]
    }
   ],
   "source": [
    "import math\n",
    "\n",
    "sample_mean = np.mean(sample_data)\n",
    "sample_std = np.std(sample_data, ddof=1)\n",
    "n = len(sample_data)\n",
    "\n",
    "# 95% confidence interval for the mean\n",
    "z = 1.96  # z-score for 95%\n",
    "margin_of_error = z * (sample_std / math.sqrt(n))\n",
    "ci_lower = sample_mean - margin_of_error\n",
    "ci_upper = sample_mean + margin_of_error\n",
    "\n",
    "print(f\"95% Confidence Interval: ({ci_lower:.2f}, {ci_upper:.2f})\")\n"
   ]
  },
  {
   "cell_type": "markdown",
   "id": "0e1d23b5-d02d-47bc-9994-fab0d9628988",
   "metadata": {},
   "source": [
    "## 3. Hypothesis Testing Overview\n",
    "Null Hypothesis (H₀): No effect / no difference\n",
    "\n",
    "Alternative Hypothesis (H₁): There is an effect / difference\n",
    "\n",
    "p-value: Probability that observed result occurred by chance\n",
    "\n",
    "If p < 0.05: Reject the null hypothesis\n",
    "\n"
   ]
  },
  {
   "cell_type": "markdown",
   "id": "1627c5c0-c98e-4ad3-a0ae-9ba4a1f2eca1",
   "metadata": {},
   "source": [
    "## 4. One Sample t-test"
   ]
  },
  {
   "cell_type": "code",
   "execution_count": 10,
   "id": "2d02d340-38d1-4572-b2d0-a564e0ed78b7",
   "metadata": {},
   "outputs": [
    {
     "name": "stdout",
     "output_type": "stream",
     "text": [
      "t-statistic: 3.5319711414286616\n",
      "p-value: 0.006394135411873378\n"
     ]
    }
   ],
   "source": [
    "# Test if the mean is significantly different from 80\n",
    "t_stat, p_value = stats.ttest_1samp(sample_data, 80)\n",
    "print(\"t-statistic:\", t_stat)\n",
    "print(\"p-value:\", p_value)\n",
    "#Check if p-value < 0.05 → statistically significant\n",
    "\n"
   ]
  },
  {
   "cell_type": "markdown",
   "id": "65804a65-02cc-4e99-a7af-c1c65b251050",
   "metadata": {},
   "source": [
    "## 5.Two Sample t-test (Independent)\n",
    "Used to compare means of two independent groups.\n",
    "\n"
   ]
  },
  {
   "cell_type": "code",
   "execution_count": 11,
   "id": "df077ade-0dae-40e7-8392-8b3520b8a902",
   "metadata": {},
   "outputs": [
    {
     "name": "stdout",
     "output_type": "stream",
     "text": [
      "t-statistic: -3.183289703016889\n",
      "p-value: 0.012933289263518293\n"
     ]
    }
   ],
   "source": [
    "group1 = [78, 82, 88, 90, 85]\n",
    "group2 = [92, 95, 89, 94, 91]\n",
    "\n",
    "t_stat, p_value = stats.ttest_ind(group1, group2)\n",
    "print(\"t-statistic:\", t_stat)\n",
    "print(\"p-value:\", p_value)\n"
   ]
  },
  {
   "cell_type": "markdown",
   "id": "6865dd4b-e577-4e4c-981e-1c0ff73a918c",
   "metadata": {},
   "source": [
    "## 6. 🔁 Paired t-test (Dependent Samples)\n",
    "📝 Used when comparing same group before & after an intervention.\n",
    "\n"
   ]
  },
  {
   "cell_type": "code",
   "execution_count": 12,
   "id": "369c5026-4cb5-46a2-b1df-afd1f92420fb",
   "metadata": {},
   "outputs": [
    {
     "name": "stdout",
     "output_type": "stream",
     "text": [
      "t-statistic: -7.961865632364446\n",
      "p-value: 0.001348170975769803\n"
     ]
    }
   ],
   "source": [
    "before = [70, 75, 78, 74, 72]\n",
    "after  = [78, 80, 82, 79, 77]\n",
    "\n",
    "t_stat, p_value = stats.ttest_rel(before, after)\n",
    "print(\"t-statistic:\", t_stat)\n",
    "print(\"p-value:\", p_value)\n"
   ]
  },
  {
   "cell_type": "markdown",
   "id": "ef3e7f66-458b-4b2f-8b4c-fff40aeb30b7",
   "metadata": {},
   "source": [
    "## 7. 🔢 Chi-Square Test for Independence\n",
    " Used for categorical data (e.g., gender vs preference).\n",
    "\n",
    "\n"
   ]
  },
  {
   "cell_type": "code",
   "execution_count": 13,
   "id": "e00ccd2f-2c35-4662-a3a8-eb394a87df77",
   "metadata": {},
   "outputs": [
    {
     "name": "stdout",
     "output_type": "stream",
     "text": [
      "Chi-square: 0.7032967032967032\n",
      "p-value: 0.4016781664697727\n"
     ]
    }
   ],
   "source": [
    "# Contingency table\n",
    "data = [[20, 30],\n",
    "        [15, 35]]\n",
    "\n",
    "chi2, p, dof, expected = stats.chi2_contingency(data)\n",
    "print(\"Chi-square:\", chi2)\n",
    "print(\"p-value:\", p)\n"
   ]
  },
  {
   "cell_type": "markdown",
   "id": "5e2dc1d3-d154-4748-bc31-93cf3468e218",
   "metadata": {},
   "source": [
    "## 8. 📐 ANOVA (Analysis of Variance)\n",
    "Use ANOVA to compare 3 or more group means.\n",
    "\n"
   ]
  },
  {
   "cell_type": "code",
   "execution_count": 14,
   "id": "0bcb9861-5d48-4053-b3a3-749128210c36",
   "metadata": {},
   "outputs": [
    {
     "name": "stdout",
     "output_type": "stream",
     "text": [
      "F-statistic: 59.24999999999976\n",
      "p-value: 6.596224997267661e-06\n"
     ]
    }
   ],
   "source": [
    "group_a = [85, 87, 90, 88]\n",
    "group_b = [78, 79, 81, 80]\n",
    "group_c = [92, 91, 95, 94]\n",
    "\n",
    "f_stat, p_value = stats.f_oneway(group_a, group_b, group_c)\n",
    "print(\"F-statistic:\", f_stat)\n",
    "print(\"p-value:\", p_value)\n"
   ]
  },
  {
   "cell_type": "markdown",
   "id": "97c8ff40-69dc-4e98-bee4-edbecc480cd2",
   "metadata": {},
   "source": [
    "## SUMMARY"
   ]
  },
  {
   "cell_type": "markdown",
   "id": "798768a3-64d2-49f0-b66f-2a3683384e17",
   "metadata": {},
   "source": [
    "| Test Type           | Purpose                                 | Function                      |\n",
    "| ------------------- | --------------------------------------- | ----------------------------- |\n",
    "| Confidence Interval | Estimate population mean range          | Manual / `stats.t.interval()` |\n",
    "| One-sample t-test   | Compare sample mean to known value      | `stats.ttest_1samp()`         |\n",
    "| Two-sample t-test   | Compare means of two independent groups | `stats.ttest_ind()`           |\n",
    "| Paired t-test       | Compare before-after same group         | `stats.ttest_rel()`           |\n",
    "| Chi-square test     | Test independence of categories         | `stats.chi2_contingency()`    |\n",
    "| ANOVA               | Compare more than 2 groups              | `stats.f_oneway()`            |\n"
   ]
  },
  {
   "cell_type": "markdown",
   "id": "a54ba19c-5c3f-4b24-ac0d-a48b3e6389b6",
   "metadata": {},
   "source": [
    "Inferential statistics helps you move beyond simple summaries — into making decisions, testing hypotheses, and validating patterns!"
   ]
  },
  {
   "cell_type": "code",
   "execution_count": null,
   "id": "79fa1ab3-ef3e-48ef-8738-774a7f57435d",
   "metadata": {},
   "outputs": [],
   "source": []
  }
 ],
 "metadata": {
  "kernelspec": {
   "display_name": "Python 3 (ipykernel)",
   "language": "python",
   "name": "python3"
  },
  "language_info": {
   "codemirror_mode": {
    "name": "ipython",
    "version": 3
   },
   "file_extension": ".py",
   "mimetype": "text/x-python",
   "name": "python",
   "nbconvert_exporter": "python",
   "pygments_lexer": "ipython3",
   "version": "3.13.1"
  }
 },
 "nbformat": 4,
 "nbformat_minor": 5
}
