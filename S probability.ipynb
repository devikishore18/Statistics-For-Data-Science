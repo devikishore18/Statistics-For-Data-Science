{
 "cells": [
  {
   "cell_type": "markdown",
   "id": "c32e7bf3-ac1d-4a72-ad55-9644021d52d3",
   "metadata": {},
   "source": [
    "# PROBABILITY\n",
    "Its a branch of\n",
    "mathematics that deals with\n",
    "likelihood of different events in\n",
    "uncertain situations. It\n",
    "quantifies uncertainty and\n",
    "provides measure of how likely\n",
    "an event is to occur.\n"
   ]
  },
  {
   "cell_type": "markdown",
   "id": "f5781460-738e-4332-8c49-4d116df47149",
   "metadata": {},
   "source": [
    "## Experiment:\n",
    "Doing something and looking at the result; e.g. rolling a die"
   ]
  },
  {
   "cell_type": "markdown",
   "id": "9785e832-1068-4fa9-ae13-1e2a485f280d",
   "metadata": {},
   "source": [
    "## Outcome: \n",
    "A single possible outcome of an experiment."
   ]
  },
  {
   "cell_type": "markdown",
   "id": "d165d136-0c23-4d4a-932a-b0083582766a",
   "metadata": {},
   "source": [
    "## Event: \n",
    "A set of one or more outcome;\n",
    "e.g. for a dice {1}, {2}, …, {6]\n",
    "\n",
    "Can be either discrete (having specific\n",
    "values) or continuous (any value in a\n",
    "continuous range)."
   ]
  },
  {
   "cell_type": "markdown",
   "id": "2ff75dc6-d1f8-4ecd-af21-9d598f6276a1",
   "metadata": {},
   "source": [
    "## Probability density function PDF - continuous values\n",
    "    - Normal distribution,\n",
    "    - T-distribution,\n",
    "    - Chi Square Distribution \n",
    "    - F Distribution\n",
    "\n",
    "## Probability mass function     PMF- Discrete values\n",
    "    - Uniform Distribution\n",
    "    - Bernoulli distribution\n",
    "    - Binomial distribution\n",
    "    "
   ]
  },
  {
   "cell_type": "markdown",
   "id": "e165b68e-e395-4688-9295-762472cb12cb",
   "metadata": {},
   "source": [
    "## Uniform Distribution  :\n",
    "When the chances of every possible outcome is same. Ex: Rolling of Dice\n"
   ]
  },
  {
   "cell_type": "markdown",
   "id": "8a0e0d5e-6a1d-4c72-86a9-fa506e028884",
   "metadata": {},
   "source": [
    "## Bernoulli distribution:\n",
    "Bernoulli distribution, Ber(p), is used to model an experiment with only two possible outcomes.The two outcomes are often encoded as 1 and 0. Ex:tossing a coin\n"
   ]
  },
  {
   "cell_type": "markdown",
   "id": "b8a25634-d704-4651-80ee-b3923eddc30b",
   "metadata": {},
   "source": [
    "## Binomial distribution:\n",
    "models the number of successes when someone draws n times with replacement. Each draw or experiment is independent, with two possible outcomes"
   ]
  },
  {
   "cell_type": "markdown",
   "id": "8e496f18-db15-4b55-a3b6-a872223e43cd",
   "metadata": {},
   "source": [
    "## NORMAL DISTRIBUTION"
   ]
  },
  {
   "cell_type": "markdown",
   "id": "88a2a78a-53f5-4ca2-baad-d095f028b8f4",
   "metadata": {},
   "source": [
    "Mean = Median = Mode |\n",
    "Symmetry about the center | \n",
    "50% of values less than the mean\n",
    "and 50% greater than the mean\n",
    "68-95-99.7 Rule : 68% of values are within 1 standard deviation of the mean, 95% within 2 and 99.7 within 3 SD\n",
    "CENTRE LIMIT THEOREM"
   ]
  },
  {
   "cell_type": "code",
   "execution_count": 4,
   "id": "226d1166-5628-424f-85ec-c1fe5c28679a",
   "metadata": {},
   "outputs": [],
   "source": [
    "#EVENT INTERACTIONS AND PROPERTIES\n",
    "even = {2, 4, 6}\n",
    "greater_than_3 = {4, 5, 6}\n",
    "sample_space = set(range(1, 7))\n"
   ]
  },
  {
   "cell_type": "code",
   "execution_count": 5,
   "id": "8093dc28-7bf2-48ca-adaf-f111b1728c5f",
   "metadata": {},
   "outputs": [],
   "source": [
    "#Event intersections and properties\n",
    "intersection = even & greater_than_3\n",
    "union = even | greater_than_3"
   ]
  },
  {
   "cell_type": "code",
   "execution_count": 6,
   "id": "7caf3983-c8be-4419-a025-5972627f7bae",
   "metadata": {},
   "outputs": [
    {
     "data": {
      "text/plain": [
       "{4, 6}"
      ]
     },
     "execution_count": 6,
     "metadata": {},
     "output_type": "execute_result"
    }
   ],
   "source": [
    "intersection "
   ]
  },
  {
   "cell_type": "code",
   "execution_count": 7,
   "id": "8b511284-b006-476c-88d4-5a268e6969d1",
   "metadata": {},
   "outputs": [
    {
     "data": {
      "text/plain": [
       "{2, 4, 5, 6}"
      ]
     },
     "execution_count": 7,
     "metadata": {},
     "output_type": "execute_result"
    }
   ],
   "source": [
    "union"
   ]
  },
  {
   "cell_type": "code",
   "execution_count": 8,
   "id": "66f59512-fdab-4279-91fb-d87c6ed83993",
   "metadata": {},
   "outputs": [
    {
     "name": "stdout",
     "output_type": "stream",
     "text": [
      "Even numbers: {2, 4, 6}\n",
      "Greater than 3: {4, 5, 6}\n",
      "Intersection (A ∩ B): {4, 6}\n",
      "Union (A ∪ B): {2, 4, 5, 6}\n"
     ]
    }
   ],
   "source": [
    "print(f\"Even numbers: {even}\")\n",
    "print(f\"Greater than 3: {greater_than_3}\")\n",
    "print(f\"Intersection (A ∩ B): {intersection}\")\n",
    "print(f\"Union (A ∪ B): {union}\")"
   ]
  },
  {
   "cell_type": "code",
   "execution_count": 10,
   "id": "0c33b05b-129e-4b32-a75c-954dc84daa34",
   "metadata": {},
   "outputs": [
    {
     "data": {
      "text/plain": [
       "{2}"
      ]
     },
     "execution_count": 10,
     "metadata": {},
     "output_type": "execute_result"
    }
   ],
   "source": [
    "#P(A−B)=P(A)−P(A∩B)\n",
    "difference = even - greater_than_3\n",
    "difference"
   ]
  },
  {
   "cell_type": "code",
   "execution_count": 11,
   "id": "c2c78ebd-f831-493e-91b8-9405636db2b4",
   "metadata": {},
   "outputs": [],
   "source": [
    "diff= greater_than_3 -even"
   ]
  },
  {
   "cell_type": "code",
   "execution_count": 12,
   "id": "4490e39a-59cd-49b7-a9a8-4052dd9a8e43",
   "metadata": {},
   "outputs": [
    {
     "data": {
      "text/plain": [
       "{5}"
      ]
     },
     "execution_count": 12,
     "metadata": {},
     "output_type": "execute_result"
    }
   ],
   "source": [
    "diff"
   ]
  }
 ],
 "metadata": {
  "kernelspec": {
   "display_name": "Python 3 (ipykernel)",
   "language": "python",
   "name": "python3"
  },
  "language_info": {
   "codemirror_mode": {
    "name": "ipython",
    "version": 3
   },
   "file_extension": ".py",
   "mimetype": "text/x-python",
   "name": "python",
   "nbconvert_exporter": "python",
   "pygments_lexer": "ipython3",
   "version": "3.13.1"
  }
 },
 "nbformat": 4,
 "nbformat_minor": 5
}
