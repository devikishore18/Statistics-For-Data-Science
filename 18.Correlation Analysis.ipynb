{
 "cells": [
  {
   "cell_type": "markdown",
   "id": "6731f96a-192b-4b97-bd98-3cefd7e1ad69",
   "metadata": {},
   "source": [
    "# Correlation\n",
    "- Correlation is a statistical measure that expresses the degree and direction of a linear relationship between two variables.\n",
    "- range:  (-1 to 1)\n",
    "- Value ranges from -1 to +1\n",
    "\n",
    "## Correlation Coefficients\n",
    "\n",
    "+1 = perfect positive correlation\n",
    "\n",
    "0 = no correlation\n",
    "\n",
    "-1 = perfect negative correlation\n",
    "  \n",
    "For example, in a marketing campaign, correlation analysis can reveal if there's a positive relationship between the amount spent on advertising and the number of sales generated. "
   ]
  },
  {
   "cell_type": "markdown",
   "id": "ee6d5cda-defc-49e5-827f-8427d2ce0430",
   "metadata": {},
   "source": [
    "## Postive Correlation: \n",
    "- one variable increase other will increase\n",
    "- there is a positive correlation between height and weight. As people get taller, they also tend to weigh more.\n",
    "\n",
    "## Negative Correlation:\n",
    "- one variable increase other will decrease\n",
    "- there is a negative correlation between price and demand. As the price of a product increases, the demand for that product decreases.\n",
    "\n",
    "## Zero Correlation:\n",
    "- no relation\n",
    "- there is zero correlation between shoe size and intelligence.\n",
    "\n",
    "A positive correlation indicates that the two variables move in the same direction, while a negative correlation indicates that the two variables move in opposite directions."
   ]
  },
  {
   "cell_type": "markdown",
   "id": "85bb30f7-9dcb-40ee-80f4-baa1329de2bd",
   "metadata": {},
   "source": [
    "# why correlation analysis is valuable:"
   ]
  },
  {
   "cell_type": "markdown",
   "id": "0ceb20cb-224c-439c-a143-a2b3cb41cb43",
   "metadata": {},
   "source": [
    "## 1. Identifying Relationships Between Variables:\n",
    "helps determine if there's a relationship between two or more variables, and if so, what the nature of that relationship is (positive, negative, or no correlation). \n",
    "\n",
    "## 2. Predictive Modeling:\n",
    "- By understanding relationships, correlation analysis can improve the accuracy of predictive models. If two variables are highly correlated, changes in one variable can be used to predict changes in the other.\n",
    "- For instance, in finance, correlation analysis can help predict future stock prices based on historical data and other related market indicators.\n",
    "\n",
    "## 3. Feature Selection in Machine Learning:\n",
    "- In machine learning, correlation analysis can help identify which features are most relevant for a model and which can be excluded, simplifying the model and improving its efficiency.\n",
    "- Removing weakly correlated variables can reduce model complexity and computational cost, especially in large datasets.\n",
    "\n",
    "## 4. Decision Making:\n",
    "- Correlation analysis provides valuable insights that can be used to make informed decisions in various fields, including business, healthcare, and marketing. \n",
    "- For example, in healthcare, it can help understand the correlation between symptoms and diseases, leading to better diagnosis and treatment strategies.\n",
    "\n",
    "## 5. Risk Assessment:\n",
    "- Correlation analysis is used to assess risk by identifying variables that tend to move together. This can help in identifying potential risks and developing strategies to mitigate them.\n",
    "- For example, in finance, it can help identify correlated assets that might be risky to invest in together.\n"
   ]
  },
  {
   "cell_type": "code",
   "execution_count": 5,
   "id": "b3cc754f-7a56-41bf-86a2-d08a0e505cb8",
   "metadata": {},
   "outputs": [],
   "source": [
    "import pandas as pd"
   ]
  },
  {
   "cell_type": "code",
   "execution_count": 6,
   "id": "04088632-23df-4498-8f49-d3902f5431e8",
   "metadata": {},
   "outputs": [],
   "source": [
    "data = {'Hours_Studied': [1, 2, 3, 4, 5],\n",
    "        'Marks_Scored': [40, 50, 60, 70, 80]}\n",
    "\n",
    "\n"
   ]
  },
  {
   "cell_type": "code",
   "execution_count": 7,
   "id": "c2f40811-8527-40ad-9766-575e857e3deb",
   "metadata": {},
   "outputs": [
    {
     "data": {
      "text/html": [
       "<div>\n",
       "<style scoped>\n",
       "    .dataframe tbody tr th:only-of-type {\n",
       "        vertical-align: middle;\n",
       "    }\n",
       "\n",
       "    .dataframe tbody tr th {\n",
       "        vertical-align: top;\n",
       "    }\n",
       "\n",
       "    .dataframe thead th {\n",
       "        text-align: right;\n",
       "    }\n",
       "</style>\n",
       "<table border=\"1\" class=\"dataframe\">\n",
       "  <thead>\n",
       "    <tr style=\"text-align: right;\">\n",
       "      <th></th>\n",
       "      <th>Hours_Studied</th>\n",
       "      <th>Marks_Scored</th>\n",
       "    </tr>\n",
       "  </thead>\n",
       "  <tbody>\n",
       "    <tr>\n",
       "      <th>0</th>\n",
       "      <td>1</td>\n",
       "      <td>40</td>\n",
       "    </tr>\n",
       "    <tr>\n",
       "      <th>1</th>\n",
       "      <td>2</td>\n",
       "      <td>50</td>\n",
       "    </tr>\n",
       "    <tr>\n",
       "      <th>2</th>\n",
       "      <td>3</td>\n",
       "      <td>60</td>\n",
       "    </tr>\n",
       "    <tr>\n",
       "      <th>3</th>\n",
       "      <td>4</td>\n",
       "      <td>70</td>\n",
       "    </tr>\n",
       "    <tr>\n",
       "      <th>4</th>\n",
       "      <td>5</td>\n",
       "      <td>80</td>\n",
       "    </tr>\n",
       "  </tbody>\n",
       "</table>\n",
       "</div>"
      ],
      "text/plain": [
       "   Hours_Studied  Marks_Scored\n",
       "0              1            40\n",
       "1              2            50\n",
       "2              3            60\n",
       "3              4            70\n",
       "4              5            80"
      ]
     },
     "execution_count": 7,
     "metadata": {},
     "output_type": "execute_result"
    }
   ],
   "source": [
    "df=pd.DataFrame(data)\n",
    "df"
   ]
  },
  {
   "cell_type": "code",
   "execution_count": 8,
   "id": "28a205a2-35c7-4e51-8c41-95a01e2b8970",
   "metadata": {},
   "outputs": [
    {
     "data": {
      "text/html": [
       "<div>\n",
       "<style scoped>\n",
       "    .dataframe tbody tr th:only-of-type {\n",
       "        vertical-align: middle;\n",
       "    }\n",
       "\n",
       "    .dataframe tbody tr th {\n",
       "        vertical-align: top;\n",
       "    }\n",
       "\n",
       "    .dataframe thead th {\n",
       "        text-align: right;\n",
       "    }\n",
       "</style>\n",
       "<table border=\"1\" class=\"dataframe\">\n",
       "  <thead>\n",
       "    <tr style=\"text-align: right;\">\n",
       "      <th></th>\n",
       "      <th>Hours_Studied</th>\n",
       "      <th>Marks_Scored</th>\n",
       "    </tr>\n",
       "  </thead>\n",
       "  <tbody>\n",
       "    <tr>\n",
       "      <th>Hours_Studied</th>\n",
       "      <td>1.0</td>\n",
       "      <td>1.0</td>\n",
       "    </tr>\n",
       "    <tr>\n",
       "      <th>Marks_Scored</th>\n",
       "      <td>1.0</td>\n",
       "      <td>1.0</td>\n",
       "    </tr>\n",
       "  </tbody>\n",
       "</table>\n",
       "</div>"
      ],
      "text/plain": [
       "               Hours_Studied  Marks_Scored\n",
       "Hours_Studied            1.0           1.0\n",
       "Marks_Scored             1.0           1.0"
      ]
     },
     "execution_count": 8,
     "metadata": {},
     "output_type": "execute_result"
    }
   ],
   "source": [
    "a= df.corr()\n",
    "a"
   ]
  },
  {
   "cell_type": "code",
   "execution_count": 9,
   "id": "e87ccddc-916a-4e41-afae-9c1134a68af8",
   "metadata": {},
   "outputs": [],
   "source": [
    "data1 = {\n",
    "    'Hours_Studied': [1, 2, 3, 4, 5],\n",
    "    'Marks_Scored': [40, 50, 60, 70, 80],\n",
    "    'Sleep_Hours': [8, 7, 6, 5, 4]\n",
    "}\n"
   ]
  },
  {
   "cell_type": "code",
   "execution_count": 10,
   "id": "f92eded8-1818-488b-a057-4f97a49dd79f",
   "metadata": {},
   "outputs": [
    {
     "data": {
      "text/html": [
       "<div>\n",
       "<style scoped>\n",
       "    .dataframe tbody tr th:only-of-type {\n",
       "        vertical-align: middle;\n",
       "    }\n",
       "\n",
       "    .dataframe tbody tr th {\n",
       "        vertical-align: top;\n",
       "    }\n",
       "\n",
       "    .dataframe thead th {\n",
       "        text-align: right;\n",
       "    }\n",
       "</style>\n",
       "<table border=\"1\" class=\"dataframe\">\n",
       "  <thead>\n",
       "    <tr style=\"text-align: right;\">\n",
       "      <th></th>\n",
       "      <th>Hours_Studied</th>\n",
       "      <th>Marks_Scored</th>\n",
       "      <th>Sleep_Hours</th>\n",
       "    </tr>\n",
       "  </thead>\n",
       "  <tbody>\n",
       "    <tr>\n",
       "      <th>0</th>\n",
       "      <td>1</td>\n",
       "      <td>40</td>\n",
       "      <td>8</td>\n",
       "    </tr>\n",
       "    <tr>\n",
       "      <th>1</th>\n",
       "      <td>2</td>\n",
       "      <td>50</td>\n",
       "      <td>7</td>\n",
       "    </tr>\n",
       "    <tr>\n",
       "      <th>2</th>\n",
       "      <td>3</td>\n",
       "      <td>60</td>\n",
       "      <td>6</td>\n",
       "    </tr>\n",
       "    <tr>\n",
       "      <th>3</th>\n",
       "      <td>4</td>\n",
       "      <td>70</td>\n",
       "      <td>5</td>\n",
       "    </tr>\n",
       "    <tr>\n",
       "      <th>4</th>\n",
       "      <td>5</td>\n",
       "      <td>80</td>\n",
       "      <td>4</td>\n",
       "    </tr>\n",
       "  </tbody>\n",
       "</table>\n",
       "</div>"
      ],
      "text/plain": [
       "   Hours_Studied  Marks_Scored  Sleep_Hours\n",
       "0              1            40            8\n",
       "1              2            50            7\n",
       "2              3            60            6\n",
       "3              4            70            5\n",
       "4              5            80            4"
      ]
     },
     "execution_count": 10,
     "metadata": {},
     "output_type": "execute_result"
    }
   ],
   "source": [
    "df1=pd.DataFrame(data1)\n",
    "df1"
   ]
  },
  {
   "cell_type": "code",
   "execution_count": 11,
   "id": "c267d9bb-40f1-4746-a989-c96b8e1530d2",
   "metadata": {},
   "outputs": [
    {
     "data": {
      "text/html": [
       "<div>\n",
       "<style scoped>\n",
       "    .dataframe tbody tr th:only-of-type {\n",
       "        vertical-align: middle;\n",
       "    }\n",
       "\n",
       "    .dataframe tbody tr th {\n",
       "        vertical-align: top;\n",
       "    }\n",
       "\n",
       "    .dataframe thead th {\n",
       "        text-align: right;\n",
       "    }\n",
       "</style>\n",
       "<table border=\"1\" class=\"dataframe\">\n",
       "  <thead>\n",
       "    <tr style=\"text-align: right;\">\n",
       "      <th></th>\n",
       "      <th>Hours_Studied</th>\n",
       "      <th>Marks_Scored</th>\n",
       "      <th>Sleep_Hours</th>\n",
       "    </tr>\n",
       "  </thead>\n",
       "  <tbody>\n",
       "    <tr>\n",
       "      <th>Hours_Studied</th>\n",
       "      <td>1.0</td>\n",
       "      <td>1.0</td>\n",
       "      <td>-1.0</td>\n",
       "    </tr>\n",
       "    <tr>\n",
       "      <th>Marks_Scored</th>\n",
       "      <td>1.0</td>\n",
       "      <td>1.0</td>\n",
       "      <td>-1.0</td>\n",
       "    </tr>\n",
       "    <tr>\n",
       "      <th>Sleep_Hours</th>\n",
       "      <td>-1.0</td>\n",
       "      <td>-1.0</td>\n",
       "      <td>1.0</td>\n",
       "    </tr>\n",
       "  </tbody>\n",
       "</table>\n",
       "</div>"
      ],
      "text/plain": [
       "               Hours_Studied  Marks_Scored  Sleep_Hours\n",
       "Hours_Studied            1.0           1.0         -1.0\n",
       "Marks_Scored             1.0           1.0         -1.0\n",
       "Sleep_Hours             -1.0          -1.0          1.0"
      ]
     },
     "execution_count": 11,
     "metadata": {},
     "output_type": "execute_result"
    }
   ],
   "source": [
    "b= df1.corr()\n",
    "b"
   ]
  },
  {
   "cell_type": "markdown",
   "id": "e53d4f3a-012c-4299-b7d1-260568862ac2",
   "metadata": {},
   "source": [
    "## heatmap= pictorical representation of correlation is heatmap"
   ]
  },
  {
   "cell_type": "code",
   "execution_count": 12,
   "id": "02b4c679-e014-4843-a2c0-9a849f31fd22",
   "metadata": {},
   "outputs": [],
   "source": [
    "import seaborn as sns\n",
    "import matplotlib.pyplot as plt"
   ]
  },
  {
   "cell_type": "code",
   "execution_count": 13,
   "id": "812b2c76-98e9-4601-b6e6-0a468cc6ea54",
   "metadata": {},
   "outputs": [
    {
     "data": {
      "image/png": "[encoded data removed]",
      "text/plain": [
       "<Figure size 1000x800 with 2 Axes>"
      ]
     },
     "metadata": {},
     "output_type": "display_data"
    }
   ],
   "source": [
    "plt.figure(figsize=(10,8))\n",
    "sns.heatmap(b)\n",
    "plt.title('students db')\n",
    "plt.show()"
   ]
  },
  {
   "cell_type": "code",
   "execution_count": 14,
   "id": "5f62f47f-4d62-46e3-99d8-5f3469b01aa6",
   "metadata": {},
   "outputs": [
    {
     "data": {
      "text/plain": [
       "<Axes: >"
      ]
     },
     "execution_count": 14,
     "metadata": {},
     "output_type": "execute_result"
    },
    {
     "data": {
      "image/png": "[encoded data removed]",
      "text/plain": [
       "<Figure size 640x480 with 2 Axes>"
      ]
     },
     "metadata": {},
     "output_type": "display_data"
    }
   ],
   "source": [
    "sns.heatmap(b,annot=True)"
   ]
  },
  {
   "cell_type": "code",
   "execution_count": 15,
   "id": "6fe8c17d-2b19-4076-857c-1c46d7dd5320",
   "metadata": {},
   "outputs": [
    {
     "data": {
      "text/plain": [
       "<Axes: >"
      ]
     },
     "execution_count": 15,
     "metadata": {},
     "output_type": "execute_result"
    },
    {
     "data": {
      "image/png": "[encoded data removed]",
      "text/plain": [
       "<Figure size 640x480 with 2 Axes>"
      ]
     },
     "metadata": {},
     "output_type": "display_data"
    }
   ],
   "source": [
    "sns.heatmap(b,annot=True,cmap='coolwarm')"
   ]
  },
  {
   "cell_type": "code",
   "execution_count": 16,
   "id": "6c8927ed-e017-4213-aa3f-959dda0fed7a",
   "metadata": {},
   "outputs": [
    {
     "data": {
      "image/png": "[encoded data removed]",
      "text/plain": [
       "<Figure size 600x400 with 2 Axes>"
      ]
     },
     "metadata": {},
     "output_type": "display_data"
    }
   ],
   "source": [
    "# Plot the heatmap\n",
    "plt.figure(figsize=(6, 4))\n",
    "sns.heatmap(b, annot=True, cmap='coolwarm', fmt=\".2f\", linewidths=0.5)\n",
    "plt.title('Correlation Heatmap')\n",
    "plt.tight_layout()\n",
    "plt.show()\n"
   ]
  },
  {
   "cell_type": "markdown",
   "id": "ee0a0d2b-6662-4ddc-a9df-d164fba3d63a",
   "metadata": {},
   "source": [
    "| **Aspect**                      | **Metric / Type**                                                            | **Purpose / Interpretation**                                                                                                              |\n",
    "| ------------------------------- | ---------------------------------------------------------------------------- | ----------------------------------------------------------------------------------------------------------------------------------------- |\n",
    "| **Definition**                  | Correlation Analysis                                                         | Measures the strength & direction of a relationship between two variables (linear in most cases) |\n",
    "| **Correlation Coefficient (r)** | Range: –1 to +1                                                              | +1 = perfect positive; –1 = perfect negative; 0 = no linear relation                                                                      |\n",
    "| **Strength Interpretation**     | r ≤ 0.3: weak<br>0.3–0.5: moderate<br>0.5–0.7: strong<br>≥ 0.7: very strong  |                                                                                                                                           |\n",
    "| **Direction**                   | Positive / Negative / Zero                                                   | Positive: variables increase together<br>Negative: one increases, other decreases<br>Zero: no linear tie                                  |\n",
    "| **Common Types**                | — **Pearson’s r**                                                            | Continuous variables, linear, normal distribution, no outliers                                                                            |\n",
    "|                                 | — **Spearman’s rho (ρ)**                                                     | Rank-based, ordinal or non-normal data, monotonic relationships                                                                           |\n",
    "|                                 | — **Kendall's tau (τ)**                                                      | Nonparametric rank correlation, accounts for concordant/discordant pairs                                                                  |\n",
    "|                                 | — **Point-Biserial (r\\_pb)**                                                 | One continuous + one binary variable                                                                                                      |\n",
    "| **Other Types**                 | Intraclass Correlation Coefficient (ICC)                                     | Measures similarity within groups (e.g., reliability)                                                                                     |\n",
    "| **Assumptions / Cautions**      | Linearity, absence of outliers, distribution types                           | Violation leads to misleading r; correlation ≠ causation                                                                                  |\n",
    "| **Visualization Tools**         | Scatterplot, Correlogram                                                     | Scatterplots show direction and linearity; correlograms display correlation matrices or autocorrelations                                  |\n",
    "| **Inference Testing**           | p-value associated with r                                                    | Helps test if observed correlation is significantly different from zero                                                                   |\n",
    "\n",
    "[1]: https://blog.flexmr.net/correlation-analysis-definition-exploration?utm_source=chatgpt.com \"What is Correlation Analysis? A Definition and Explanation - Blog\"\n",
    "[2]: https://www.scribbr.com/statistics/correlation-coefficient/?utm_source=chatgpt.com \"Correlation Coefficient | Types, Formulas & Examples - Scribbr\"\n"
   ]
  },
  {
   "cell_type": "markdown",
   "id": "4b4688df-1bf1-4489-bfda-7bd0cf46e4c4",
   "metadata": {},
   "source": [
    "## 2. Types of Correlation & Use Cases\n"
   ]
  },
  {
   "cell_type": "markdown",
   "id": "c5a36072-7a92-48f6-b354-0d81a97fd8ad",
   "metadata": {},
   "source": [
    "| **Method**            | **Notation**    | **When to Use**                                                              | **Range/Interpretation**                                                      |\n",
    "| --------------------- | --------------- | ---------------------------------------------------------------------------- | ----------------------------------------------------------------------------- |\n",
    "| Pearson’s r (linear)  | $r$             | Continuous data, linear relationship, normality, no major outliers           | $-1\\le r\\le1$; closer to ±1 = stronger linear link |\n",
    "| Spearman’s rho (rank) | $\\rho$ or $r_s$ | Ordinal or non‑normal data, monotonic trends, robust to outliers             | $-1\\le \\rho\\le1$; measures monotonic association                              |\n",
    "| Kendall’s tau         | $\\tau$          | Similar use to Spearman, better for small samples, based on pair concordance | $-1\\le \\tau\\le1$; non‑parametric rank correlation                             |\n",
    "| Point‑Biserial        | $r_{pb}$        | One continuous and one binary variable                                       | Like Pearson, for binary vs continuous variables                              |\n",
    "\n",
    "[1]: https://www.analyticsvidhya.com/blog/2021/03/comparison-of-pearson-and-spearman-correlation-coefficients/?utm_source=chatgpt.com \"Comparison of Pearson vs Spearman Correlation Coefficients\"\n"
   ]
  },
  {
   "cell_type": "markdown",
   "id": "86357f94-502b-49b6-8ed5-ab7a2fc3107b",
   "metadata": {},
   "source": [
    "## 3. Assumptions & Best Practices\n"
   ]
  },
  {
   "cell_type": "markdown",
   "id": "e204df6d-87ff-4e61-b476-634fc48c0761",
   "metadata": {},
   "source": [
    "- Pearson: linearity, normality, homoscedasticity, no significant outliers, paired data \n",
    "- Spearman/Kendall: monotonic relationship; non-parametric rank-based \n",
    "- Always plot your data (scatterplot or ranked scatterplot) before interpreting\n",
    "\n",
    "\n"
   ]
  },
  {
   "cell_type": "markdown",
   "id": "89840737-8e64-4407-a4de-2ce09139360b",
   "metadata": {},
   "source": [
    "## 4. Interpretation of Coefficients\n"
   ]
  },
  {
   "cell_type": "raw",
   "id": "8d5736b5-5cb2-4298-99d3-8631197b0fd3",
   "metadata": {},
   "source": [
    "| |r| or |ρ| | Strength |\n",
    "|------------|------------------|\n",
    "| 0.00–0.29 | Weak |\n",
    "| 0.30–0.49 | Moderate |\n",
    "| 0.50–0.69 | Strong |\n",
    "| 0.70–1.00 | Very strong |\n",
    "\n",
    "\n",
    "Rule of thumb; context matters\n",
    "\n",
    "Perfect: 0.80 to 1.00\n",
    "Strong: 0.50 to 0.79\n",
    "Moderate: 0.30 to 0.49\n",
    "Weak: 0.00 to 0.29\n"
   ]
  },
  {
   "cell_type": "markdown",
   "id": "3a0531bc-f434-4754-9892-11efb6672ea8",
   "metadata": {},
   "source": [
    "## 5.Visualization Tools\n",
    "- Scatterplot: visualize and check for patterns, outliers.\n",
    "\n",
    "- Rank scatterplot: for Spearman.\n",
    "\n",
    "  A rank scatter plot is a scatter plot where the data points represent the ranks of two variables rather than their original values. This type of plot is used to visualize the relationship between the ranks of two datasets, often to assess the Spearman correlation\n",
    "\n",
    "- Correlation matrix + heatmap: for multiple variables \n",
    "\n",
    "\n"
   ]
  },
  {
   "cell_type": "code",
   "execution_count": null,
   "id": "c47e4722-737e-4edf-b9af-e5ec09375f57",
   "metadata": {},
   "outputs": [],
   "source": [
    "pearson = df['Hours_Studied\t'].corr(df['Marks_Scored'], method='pearson')\n",
    "spearman = df['Hours_Studied'].corr(df['Marks_Scored'], method='spearman')\n",
    "kendall = df['Hours_Studied'].corr(df['Marks_Scored'], method='kendall')\n",
    "#pearson, spearman, kendall"
   ]
  },
  {
   "cell_type": "code",
   "execution_count": null,
   "id": "56312e23-77b0-42ca-94ad-1ad3e123553e",
   "metadata": {},
   "outputs": [],
   "source": [
    "corr = df.corr(method='pearson')\n",
    "sns.heatmap(corr, annot=True, cmap='coolwarm')\n"
   ]
  },
  {
   "cell_type": "markdown",
   "id": "0cb3536d-a8cd-419e-a094-22bf168222d6",
   "metadata": {},
   "source": [
    "## 6. Interpret Findings\n",
    "- Pearson r = … ⇒ linear … describes a relationship between two variables that, when graphed, forms a straight line.\n",
    "- Spearman ρ = … ⇒ monotonic … varying in such a way that it either never decreases or never increases.\n",
    "- Discuss possible outliers or non-linearity., a non-linear relationship is represented by a curve on a graph. exists between two variables when a constant change in one variable does not produce a constant change in the other variable\n"
   ]
  },
  {
   "cell_type": "code",
   "execution_count": null,
   "id": "a893d8e7-00f2-478d-878d-1aa677136733",
   "metadata": {},
   "outputs": [],
   "source": []
  }
 ],
 "metadata": {
  "kernelspec": {
   "display_name": "Python 3 (ipykernel)",
   "language": "python",
   "name": "python3"
  },
  "language_info": {
   "codemirror_mode": {
    "name": "ipython",
    "version": 3
   },
   "file_extension": ".py",
   "mimetype": "text/x-python",
   "name": "python",
   "nbconvert_exporter": "python",
   "pygments_lexer": "ipython3",
   "version": "3.13.1"
  }
 },
 "nbformat": 4,
 "nbformat_minor": 5
}
